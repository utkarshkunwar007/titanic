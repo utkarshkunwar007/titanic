{
 "cells": [
  {
   "cell_type": "markdown",
   "metadata": {},
   "source": [
    "# Building Predictive Models"
   ]
  },
  {
   "cell_type": "code",
   "execution_count": 2,
   "metadata": {},
   "outputs": [],
   "source": [
    "import pandas as pd\n",
    "import os\n",
    "import numpy as np"
   ]
  },
  {
   "cell_type": "markdown",
   "metadata": {},
   "source": [
    "### Import Data"
   ]
  },
  {
   "cell_type": "code",
   "execution_count": 3,
   "metadata": {},
   "outputs": [],
   "source": [
    "# set the path of the processed data\n",
    "processed_data_path = os.path.join(os.path.pardir,'data','processed')\n",
    "train_file_path = os.path.join(processed_data_path, 'train.csv')\n",
    "test_file_path = os.path.join(processed_data_path, 'test.csv')"
   ]
  },
  {
   "cell_type": "code",
   "execution_count": 4,
   "metadata": {},
   "outputs": [],
   "source": [
    "train_df = pd.read_csv(train_file_path, index_col = 'PassengerId')\n",
    "test_df = pd.read_csv(test_file_path, index_col = 'PassengerId')"
   ]
  },
  {
   "cell_type": "code",
   "execution_count": 5,
   "metadata": {},
   "outputs": [
    {
     "name": "stdout",
     "output_type": "stream",
     "text": [
      "<class 'pandas.core.frame.DataFrame'>\n",
      "Int64Index: 891 entries, 1 to 891\n",
      "Data columns (total 33 columns):\n",
      "Survived              891 non-null int64\n",
      "Age                   891 non-null float64\n",
      "Fare                  891 non-null float64\n",
      "FamilySize            891 non-null int64\n",
      "IsMother              891 non-null int64\n",
      "IsMale                891 non-null int64\n",
      "Deck_A                891 non-null int64\n",
      "Deck_B                891 non-null int64\n",
      "Deck_C                891 non-null int64\n",
      "Deck_D                891 non-null int64\n",
      "Deck_E                891 non-null int64\n",
      "Deck_F                891 non-null int64\n",
      "Deck_G                891 non-null int64\n",
      "Deck_Z                891 non-null int64\n",
      "Pclass_1              891 non-null int64\n",
      "Pclass_2              891 non-null int64\n",
      "Pclass_3              891 non-null int64\n",
      "Title_Lady            891 non-null int64\n",
      "Title_Master          891 non-null int64\n",
      "Title_Miss            891 non-null int64\n",
      "Title_Mr              891 non-null int64\n",
      "Title_Mrs             891 non-null int64\n",
      "Title_Officer         891 non-null int64\n",
      "Title_Sir             891 non-null int64\n",
      "Fare_Bin_very_low     891 non-null int64\n",
      "Fare_Bin_low          891 non-null int64\n",
      "Fare_Bin_high         891 non-null int64\n",
      "Fare_Bin_vary_high    891 non-null int64\n",
      "Embarked_C            891 non-null int64\n",
      "Embarked_Q            891 non-null int64\n",
      "Embarked_S            891 non-null int64\n",
      "AgeState_Adult        891 non-null int64\n",
      "AgeState_Child        891 non-null int64\n",
      "dtypes: float64(2), int64(31)\n",
      "memory usage: 236.7 KB\n"
     ]
    }
   ],
   "source": [
    "train_df.info()"
   ]
  },
  {
   "cell_type": "code",
   "execution_count": 6,
   "metadata": {},
   "outputs": [
    {
     "name": "stdout",
     "output_type": "stream",
     "text": [
      "<class 'pandas.core.frame.DataFrame'>\n",
      "Int64Index: 418 entries, 892 to 1309\n",
      "Data columns (total 32 columns):\n",
      "Age                   418 non-null float64\n",
      "Fare                  418 non-null float64\n",
      "FamilySize            418 non-null int64\n",
      "IsMother              418 non-null int64\n",
      "IsMale                418 non-null int64\n",
      "Deck_A                418 non-null int64\n",
      "Deck_B                418 non-null int64\n",
      "Deck_C                418 non-null int64\n",
      "Deck_D                418 non-null int64\n",
      "Deck_E                418 non-null int64\n",
      "Deck_F                418 non-null int64\n",
      "Deck_G                418 non-null int64\n",
      "Deck_Z                418 non-null int64\n",
      "Pclass_1              418 non-null int64\n",
      "Pclass_2              418 non-null int64\n",
      "Pclass_3              418 non-null int64\n",
      "Title_Lady            418 non-null int64\n",
      "Title_Master          418 non-null int64\n",
      "Title_Miss            418 non-null int64\n",
      "Title_Mr              418 non-null int64\n",
      "Title_Mrs             418 non-null int64\n",
      "Title_Officer         418 non-null int64\n",
      "Title_Sir             418 non-null int64\n",
      "Fare_Bin_very_low     418 non-null int64\n",
      "Fare_Bin_low          418 non-null int64\n",
      "Fare_Bin_high         418 non-null int64\n",
      "Fare_Bin_vary_high    418 non-null int64\n",
      "Embarked_C            418 non-null int64\n",
      "Embarked_Q            418 non-null int64\n",
      "Embarked_S            418 non-null int64\n",
      "AgeState_Adult        418 non-null int64\n",
      "AgeState_Child        418 non-null int64\n",
      "dtypes: float64(2), int64(30)\n",
      "memory usage: 107.8 KB\n"
     ]
    }
   ],
   "source": [
    "test_df.info()"
   ]
  },
  {
   "cell_type": "markdown",
   "metadata": {},
   "source": [
    "### Data Preperation"
   ]
  },
  {
   "cell_type": "code",
   "execution_count": 7,
   "metadata": {},
   "outputs": [],
   "source": [
    "X = train_df.loc[:,'Age':].values.astype('float') # standard practice capital letter 'X' is used for Matrix\n",
    "y = train_df['Survived'].ravel() # standard practice small letter 'y' is used for Arrays"
   ]
  },
  {
   "cell_type": "code",
   "execution_count": 8,
   "metadata": {},
   "outputs": [
    {
     "name": "stdout",
     "output_type": "stream",
     "text": [
      "(891L, 32L) (891L,)\n"
     ]
    }
   ],
   "source": [
    "print X.shape, y.shape"
   ]
  },
  {
   "cell_type": "code",
   "execution_count": 9,
   "metadata": {},
   "outputs": [
    {
     "name": "stdout",
     "output_type": "stream",
     "text": [
      "(712L, 32L) (712L,)\n",
      "(179L, 32L) (179L,)\n"
     ]
    }
   ],
   "source": [
    "# train test split\n",
    "from sklearn.model_selection import train_test_split\n",
    "X_train, X_test, y_train, y_test = train_test_split(X, y, test_size=0.2, random_state=0)\n",
    "print X_train.shape, y_train.shape\n",
    "print X_test.shape, y_test.shape"
   ]
  },
  {
   "cell_type": "code",
   "execution_count": 10,
   "metadata": {},
   "outputs": [
    {
     "name": "stdout",
     "output_type": "stream",
     "text": [
      "mean survival in train:0.383\n",
      "mean survival in test:0.385\n"
     ]
    }
   ],
   "source": [
    "# average survival in train and test\n",
    "print('mean survival in train:{0:.3f}'.format(np.mean(y_train)))\n",
    "print('mean survival in test:{0:.3f}'.format(np.mean(y_test)))"
   ]
  },
  {
   "cell_type": "markdown",
   "metadata": {},
   "source": [
    "#### Check Scikit-Learn Version"
   ]
  },
  {
   "cell_type": "code",
   "execution_count": 11,
   "metadata": {},
   "outputs": [],
   "source": [
    "import sklearn"
   ]
  },
  {
   "cell_type": "code",
   "execution_count": 12,
   "metadata": {},
   "outputs": [
    {
     "data": {
      "text/plain": [
       "'0.19.1'"
      ]
     },
     "execution_count": 12,
     "metadata": {},
     "output_type": "execute_result"
    }
   ],
   "source": [
    "sklearn.__version__ # make sure you have version 0.19 or above to use DummyClassifier"
   ]
  },
  {
   "cell_type": "markdown",
   "metadata": {},
   "source": [
    "### Baseline Model"
   ]
  },
  {
   "cell_type": "code",
   "execution_count": 13,
   "metadata": {},
   "outputs": [],
   "source": [
    "# import function\n",
    "from sklearn.dummy import DummyClassifier"
   ]
  },
  {
   "cell_type": "code",
   "execution_count": 14,
   "metadata": {},
   "outputs": [],
   "source": [
    "# create model\n",
    "model_dummy = DummyClassifier(strategy='most_frequent', random_state=0)"
   ]
  },
  {
   "cell_type": "code",
   "execution_count": 15,
   "metadata": {},
   "outputs": [
    {
     "data": {
      "text/plain": [
       "DummyClassifier(constant=None, random_state=0, strategy='most_frequent')"
      ]
     },
     "execution_count": 15,
     "metadata": {},
     "output_type": "execute_result"
    }
   ],
   "source": [
    "# train model\n",
    "model_dummy.fit(X_train, y_train)"
   ]
  },
  {
   "cell_type": "code",
   "execution_count": 16,
   "metadata": {},
   "outputs": [
    {
     "name": "stdout",
     "output_type": "stream",
     "text": [
      "score for baseline model : 0.61\n"
     ]
    }
   ],
   "source": [
    "print('score for baseline model : {0:.2f}'.format(model_dummy.score(X_test, y_test)))"
   ]
  },
  {
   "cell_type": "code",
   "execution_count": 17,
   "metadata": {},
   "outputs": [],
   "source": [
    "# performance metrics\n",
    "from sklearn.metrics import accuracy_score, confusion_matrix, precision_score, recall_score"
   ]
  },
  {
   "cell_type": "code",
   "execution_count": 18,
   "metadata": {},
   "outputs": [
    {
     "name": "stdout",
     "output_type": "stream",
     "text": [
      "Accuracy for baseline model : 0.61\n"
     ]
    }
   ],
   "source": [
    "# accuracy score\n",
    "print('Accuracy for baseline model : {0:.2f}'.format(accuracy_score(y_test, model_dummy.predict(X_test))))"
   ]
  },
  {
   "cell_type": "code",
   "execution_count": 19,
   "metadata": {},
   "outputs": [
    {
     "name": "stdout",
     "output_type": "stream",
     "text": [
      "Confusion matrix for baseline model : \n",
      " [[110   0]\n",
      " [ 69   0]]\n"
     ]
    }
   ],
   "source": [
    "# confusion matrix\n",
    "print('Confusion matrix for baseline model : \\n {0}'.format(confusion_matrix(y_test, model_dummy.predict(X_test))))"
   ]
  },
  {
   "cell_type": "code",
   "execution_count": 20,
   "metadata": {},
   "outputs": [
    {
     "name": "stdout",
     "output_type": "stream",
     "text": [
      "Precision score for baseline model : 0.00\n",
      "Recall score for baseline model : 0.00\n"
     ]
    },
    {
     "name": "stderr",
     "output_type": "stream",
     "text": [
      "C:\\Users\\Utkarsh\\Anaconda2\\lib\\site-packages\\sklearn\\metrics\\classification.py:1135: UndefinedMetricWarning: Precision is ill-defined and being set to 0.0 due to no predicted samples.\n",
      "  'precision', 'predicted', average, warn_for)\n"
     ]
    }
   ],
   "source": [
    "# precision and recall score\n",
    "print('Precision score for baseline model : {0:.2f}'.format(precision_score(y_test, model_dummy.predict(X_test))))\n",
    "print('Recall score for baseline model : {0:.2f}'.format(recall_score(y_test, model_dummy.predict(X_test))))"
   ]
  },
  {
   "cell_type": "markdown",
   "metadata": {},
   "source": [
    "### First Kaggle Submission"
   ]
  },
  {
   "cell_type": "code",
   "execution_count": 21,
   "metadata": {},
   "outputs": [],
   "source": [
    "# converting to the matrix\n",
    "test_X = test_df.values.astype('float')"
   ]
  },
  {
   "cell_type": "code",
   "execution_count": 22,
   "metadata": {},
   "outputs": [],
   "source": [
    "# get predections\n",
    "predictions = model_dummy.predict(test_X)"
   ]
  },
  {
   "cell_type": "code",
   "execution_count": 23,
   "metadata": {},
   "outputs": [],
   "source": [
    "df_submission = pd.DataFrame({'PassengerId': test_df.index, 'Survived': predictions})"
   ]
  },
  {
   "cell_type": "code",
   "execution_count": 24,
   "metadata": {},
   "outputs": [
    {
     "data": {
      "text/html": [
       "<div>\n",
       "<style scoped>\n",
       "    .dataframe tbody tr th:only-of-type {\n",
       "        vertical-align: middle;\n",
       "    }\n",
       "\n",
       "    .dataframe tbody tr th {\n",
       "        vertical-align: top;\n",
       "    }\n",
       "\n",
       "    .dataframe thead th {\n",
       "        text-align: right;\n",
       "    }\n",
       "</style>\n",
       "<table border=\"1\" class=\"dataframe\">\n",
       "  <thead>\n",
       "    <tr style=\"text-align: right;\">\n",
       "      <th></th>\n",
       "      <th>PassengerId</th>\n",
       "      <th>Survived</th>\n",
       "    </tr>\n",
       "  </thead>\n",
       "  <tbody>\n",
       "    <tr>\n",
       "      <th>0</th>\n",
       "      <td>892</td>\n",
       "      <td>0</td>\n",
       "    </tr>\n",
       "    <tr>\n",
       "      <th>1</th>\n",
       "      <td>893</td>\n",
       "      <td>0</td>\n",
       "    </tr>\n",
       "    <tr>\n",
       "      <th>2</th>\n",
       "      <td>894</td>\n",
       "      <td>0</td>\n",
       "    </tr>\n",
       "    <tr>\n",
       "      <th>3</th>\n",
       "      <td>895</td>\n",
       "      <td>0</td>\n",
       "    </tr>\n",
       "    <tr>\n",
       "      <th>4</th>\n",
       "      <td>896</td>\n",
       "      <td>0</td>\n",
       "    </tr>\n",
       "  </tbody>\n",
       "</table>\n",
       "</div>"
      ],
      "text/plain": [
       "   PassengerId  Survived\n",
       "0          892         0\n",
       "1          893         0\n",
       "2          894         0\n",
       "3          895         0\n",
       "4          896         0"
      ]
     },
     "execution_count": 24,
     "metadata": {},
     "output_type": "execute_result"
    }
   ],
   "source": [
    "df_submission.head()"
   ]
  },
  {
   "cell_type": "code",
   "execution_count": 25,
   "metadata": {},
   "outputs": [],
   "source": [
    "submission_data_path = os.path.join(os.path.pardir, 'data', 'external')\n",
    "submission_file_path = os.path.join(os.path.pardir, '01_dummy.csv')"
   ]
  },
  {
   "cell_type": "code",
   "execution_count": 26,
   "metadata": {},
   "outputs": [],
   "source": [
    "df_submission.to_csv(submission_file_path, index=False)"
   ]
  },
  {
   "cell_type": "code",
   "execution_count": 27,
   "metadata": {},
   "outputs": [],
   "source": [
    "def get_submission_file(model, filename):\n",
    "    # converting to the matrix\n",
    "    test_X = test_df.values.astype('float')\n",
    "    # make predections\n",
    "    predictions = model.predict(test_X)\n",
    "    # submit dataframe\n",
    "    df_submission = pd.DataFrame({'PassengerId': test_df.index, 'Survived': predictions})\n",
    "    # submission file\n",
    "    submission_data_path = os.path.join(os.path.pardir, 'data', 'external')\n",
    "    submission_file_path = os.path.join(submission_data_path, filename)    \n",
    "    # write to the file\n",
    "    df_submission.to_csv(submission_file_path, index=False)\n",
    "    "
   ]
  },
  {
   "cell_type": "code",
   "execution_count": 57,
   "metadata": {},
   "outputs": [],
   "source": [
    "# get submission file\n",
    "get_submission_file(model_dummy, '01_dummy.csv')"
   ]
  },
  {
   "cell_type": "markdown",
   "metadata": {},
   "source": [
    "### Logistic Regression Model"
   ]
  },
  {
   "cell_type": "code",
   "execution_count": 28,
   "metadata": {},
   "outputs": [],
   "source": [
    "# import function\n",
    "from sklearn.linear_model import LogisticRegression"
   ]
  },
  {
   "cell_type": "code",
   "execution_count": 29,
   "metadata": {},
   "outputs": [],
   "source": [
    "# create model\n",
    "model_lr_1 = LogisticRegression(random_state=0)"
   ]
  },
  {
   "cell_type": "code",
   "execution_count": 30,
   "metadata": {},
   "outputs": [
    {
     "data": {
      "text/plain": [
       "LogisticRegression(C=1.0, class_weight=None, dual=False, fit_intercept=True,\n",
       "          intercept_scaling=1, max_iter=100, multi_class='ovr', n_jobs=1,\n",
       "          penalty='l2', random_state=0, solver='liblinear', tol=0.0001,\n",
       "          verbose=0, warm_start=False)"
      ]
     },
     "execution_count": 30,
     "metadata": {},
     "output_type": "execute_result"
    }
   ],
   "source": [
    "# train model\n",
    "model_lr_1.fit(X_train, y_train)"
   ]
  },
  {
   "cell_type": "code",
   "execution_count": 31,
   "metadata": {},
   "outputs": [
    {
     "name": "stdout",
     "output_type": "stream",
     "text": [
      "score for logestic regration - version 1: 0.832402\n"
     ]
    }
   ],
   "source": [
    "# evaluate model\n",
    "print('score for logestic regration - version 1: {0:2f}'.format(model_lr_1.score(X_test, y_test)))"
   ]
  },
  {
   "cell_type": "code",
   "execution_count": 32,
   "metadata": {},
   "outputs": [
    {
     "name": "stdout",
     "output_type": "stream",
     "text": [
      "Accuracy for baseline model : 0.83\n",
      "Confusion matrix for baseline model : \n",
      " [[95 15]\n",
      " [15 54]]\n",
      "Precision score for baseline model : 0.78\n",
      "Recall score for baseline model : 0.78\n"
     ]
    }
   ],
   "source": [
    "# performance metrics\n",
    "# accuracy\n",
    "print('Accuracy for baseline model : {0:.2f}'.format(accuracy_score(y_test, model_lr_1.predict(X_test))))\n",
    "# confusion matrix\n",
    "print('Confusion matrix for baseline model : \\n {0}'.format(confusion_matrix(y_test, model_lr_1.predict(X_test))))\n",
    "# precision\n",
    "print('Precision score for baseline model : {0:.2f}'.format(precision_score(y_test, model_lr_1.predict(X_test))))\n",
    "# recall\n",
    "print('Recall score for baseline model : {0:.2f}'.format(recall_score(y_test, model_lr_1.predict(X_test))))"
   ]
  },
  {
   "cell_type": "code",
   "execution_count": 33,
   "metadata": {},
   "outputs": [
    {
     "data": {
      "text/plain": [
       "array([[-0.0284227 ,  0.00455451, -0.50009091,  0.61781314, -0.8139233 ,\n",
       "         0.12845079, -0.1728179 , -0.39317833,  0.52159976,  1.09941224,\n",
       "         0.40341217, -0.18345051, -0.30036041,  0.96533486,  0.48256743,\n",
       "        -0.34483447,  0.28089591,  1.21761326,  0.56363966, -1.44586303,\n",
       "         1.07245555, -0.11273706, -0.47293647,  0.16255645,  0.24716927,\n",
       "         0.28009442,  0.41324768,  0.49183529,  0.46198829,  0.14924424,\n",
       "         0.37283518,  0.73023264]])"
      ]
     },
     "execution_count": 33,
     "metadata": {},
     "output_type": "execute_result"
    }
   ],
   "source": [
    "# model cofficients\n",
    "model_lr_1.coef_"
   ]
  },
  {
   "cell_type": "markdown",
   "metadata": {},
   "source": [
    "### Second Kaggle Submission"
   ]
  },
  {
   "cell_type": "code",
   "execution_count": 64,
   "metadata": {},
   "outputs": [],
   "source": [
    "# get submission file\n",
    "get_submission_file(model_lr_1, '02_lr.csv')"
   ]
  },
  {
   "cell_type": "markdown",
   "metadata": {},
   "source": [
    "## Part 2"
   ]
  },
  {
   "cell_type": "markdown",
   "metadata": {},
   "source": [
    "### Hyperparameter Optimization"
   ]
  },
  {
   "cell_type": "code",
   "execution_count": 34,
   "metadata": {},
   "outputs": [],
   "source": [
    "# base model\n",
    "model_lr = LogisticRegression()"
   ]
  },
  {
   "cell_type": "code",
   "execution_count": 35,
   "metadata": {},
   "outputs": [],
   "source": [
    "from sklearn.model_selection import GridSearchCV"
   ]
  },
  {
   "cell_type": "code",
   "execution_count": 36,
   "metadata": {},
   "outputs": [],
   "source": [
    "parameters = { 'C':[1.0,10.0,50.0,100.0,1000.0], 'penalty':['l1', 'l2']}\n",
    "clf = GridSearchCV(model_lr, param_grid = parameters, cv=3)"
   ]
  },
  {
   "cell_type": "code",
   "execution_count": 37,
   "metadata": {},
   "outputs": [
    {
     "data": {
      "text/plain": [
       "GridSearchCV(cv=3, error_score='raise',\n",
       "       estimator=LogisticRegression(C=1.0, class_weight=None, dual=False, fit_intercept=True,\n",
       "          intercept_scaling=1, max_iter=100, multi_class='ovr', n_jobs=1,\n",
       "          penalty='l2', random_state=None, solver='liblinear', tol=0.0001,\n",
       "          verbose=0, warm_start=False),\n",
       "       fit_params=None, iid=True, n_jobs=1,\n",
       "       param_grid={'penalty': ['l1', 'l2'], 'C': [1.0, 10.0, 50.0, 100.0, 1000.0]},\n",
       "       pre_dispatch='2*n_jobs', refit=True, return_train_score='warn',\n",
       "       scoring=None, verbose=0)"
      ]
     },
     "execution_count": 37,
     "metadata": {},
     "output_type": "execute_result"
    }
   ],
   "source": [
    "clf.fit(X_train,y_train)"
   ]
  },
  {
   "cell_type": "code",
   "execution_count": 38,
   "metadata": {},
   "outputs": [
    {
     "data": {
      "text/plain": [
       "{'C': 1.0, 'penalty': 'l1'}"
      ]
     },
     "execution_count": 38,
     "metadata": {},
     "output_type": "execute_result"
    }
   ],
   "source": [
    "clf.best_params_"
   ]
  },
  {
   "cell_type": "code",
   "execution_count": 39,
   "metadata": {},
   "outputs": [
    {
     "name": "stdout",
     "output_type": "stream",
     "text": [
      "best score : 0.83\n"
     ]
    }
   ],
   "source": [
    "print('best score : {0:.2f}'.format(clf.best_score_))"
   ]
  },
  {
   "cell_type": "code",
   "execution_count": 40,
   "metadata": {},
   "outputs": [
    {
     "name": "stdout",
     "output_type": "stream",
     "text": [
      "best score for logistic regression - version 2 : 0.83\n"
     ]
    }
   ],
   "source": [
    "# evaluate model\n",
    "print('best score for logistic regression - version 2 : {0:.2f}'.format(clf.score(X_test, y_test)))"
   ]
  },
  {
   "cell_type": "markdown",
   "metadata": {},
   "source": [
    "### Making Third Submission"
   ]
  },
  {
   "cell_type": "code",
   "execution_count": 72,
   "metadata": {},
   "outputs": [],
   "source": [
    "# get submission file\n",
    "get_submission_file(clf, '03_lr.csv')"
   ]
  },
  {
   "cell_type": "markdown",
   "metadata": {},
   "source": [
    "## Feature Normalization and Standardization"
   ]
  },
  {
   "cell_type": "code",
   "execution_count": 41,
   "metadata": {},
   "outputs": [],
   "source": [
    "from sklearn.preprocessing import MinMaxScaler, StandardScaler"
   ]
  },
  {
   "cell_type": "markdown",
   "metadata": {},
   "source": [
    "### Feature Normalization"
   ]
  },
  {
   "cell_type": "code",
   "execution_count": 42,
   "metadata": {},
   "outputs": [],
   "source": [
    "# feature normalization\n",
    "scaler = MinMaxScaler()\n",
    "X_train_scaled = scaler.fit_transform(X_train)"
   ]
  },
  {
   "cell_type": "code",
   "execution_count": 43,
   "metadata": {},
   "outputs": [
    {
     "data": {
      "text/plain": [
       "(0.0, 1.0)"
      ]
     },
     "execution_count": 43,
     "metadata": {},
     "output_type": "execute_result"
    }
   ],
   "source": [
    "X_train_scaled[:,0].min(),X_train_scaled[:,0].max()"
   ]
  },
  {
   "cell_type": "code",
   "execution_count": 44,
   "metadata": {},
   "outputs": [],
   "source": [
    "# normalise test data\n",
    "X_train_scaled = scaler.transform(X_test)"
   ]
  },
  {
   "cell_type": "markdown",
   "metadata": {},
   "source": [
    "### Feature Standardization"
   ]
  },
  {
   "cell_type": "code",
   "execution_count": 45,
   "metadata": {},
   "outputs": [],
   "source": [
    " # feature standardization\n",
    "scaler = StandardScaler()\n",
    "X_train_scaled = scaler.fit_transform(X_train)\n",
    "X_test_scaled = scaler.fit_transform(X_test)"
   ]
  },
  {
   "cell_type": "markdown",
   "metadata": {},
   "source": [
    "#### Create Model after Standardization"
   ]
  },
  {
   "cell_type": "code",
   "execution_count": 46,
   "metadata": {},
   "outputs": [
    {
     "data": {
      "text/plain": [
       "GridSearchCV(cv=3, error_score='raise',\n",
       "       estimator=LogisticRegression(C=1.0, class_weight=None, dual=False, fit_intercept=True,\n",
       "          intercept_scaling=1, max_iter=100, multi_class='ovr', n_jobs=1,\n",
       "          penalty='l2', random_state=None, solver='liblinear', tol=0.0001,\n",
       "          verbose=0, warm_start=False),\n",
       "       fit_params=None, iid=True, n_jobs=1,\n",
       "       param_grid={'penalty': ['l1', 'l2'], 'C': [1.0, 10.0, 50.0, 100.0, 1000.0]},\n",
       "       pre_dispatch='2*n_jobs', refit=True, return_train_score='warn',\n",
       "       scoring=None, verbose=0)"
      ]
     },
     "execution_count": 46,
     "metadata": {},
     "output_type": "execute_result"
    }
   ],
   "source": [
    "# base model\n",
    "model_lr = LogisticRegression()\n",
    "parameters = { 'C':[1.0,10.0,50.0,100.0,1000.0], 'penalty':['l1', 'l2']}\n",
    "clf = GridSearchCV(model_lr, param_grid = parameters, cv=3)\n",
    "clf.fit(X_train_scaled,y_train)"
   ]
  },
  {
   "cell_type": "code",
   "execution_count": 47,
   "metadata": {},
   "outputs": [
    {
     "data": {
      "text/plain": [
       "0.8132022471910112"
      ]
     },
     "execution_count": 47,
     "metadata": {},
     "output_type": "execute_result"
    }
   ],
   "source": [
    "clf.best_score_"
   ]
  },
  {
   "cell_type": "code",
   "execution_count": 48,
   "metadata": {},
   "outputs": [
    {
     "name": "stdout",
     "output_type": "stream",
     "text": [
      "best score for logistic regression - version 2 : 0.82\n"
     ]
    }
   ],
   "source": [
    "print('best score for logistic regression - version 2 : {0:.2f}'.format(clf.score(X_test_scaled, y_test)))"
   ]
  },
  {
   "cell_type": "markdown",
   "metadata": {},
   "source": [
    "### Model Persistance"
   ]
  },
  {
   "cell_type": "code",
   "execution_count": 49,
   "metadata": {},
   "outputs": [],
   "source": [
    "# import pickle library\n",
    "import pickle"
   ]
  },
  {
   "cell_type": "code",
   "execution_count": 50,
   "metadata": {},
   "outputs": [],
   "source": [
    "# create the file path\n",
    "model_file_path = os.path.join(os.path.pardir,'models','lr_model.pkl')\n",
    "scaler_file_path = os.path.join(os.path.pardir, 'models','lr_scaler.pkl')"
   ]
  },
  {
   "cell_type": "code",
   "execution_count": 51,
   "metadata": {},
   "outputs": [],
   "source": [
    "# open the files to write\n",
    "model_file_pickle = open(model_file_path, 'wb')\n",
    "scaler_file_pickle = open(scaler_file_path, 'wb')"
   ]
  },
  {
   "cell_type": "code",
   "execution_count": 52,
   "metadata": {},
   "outputs": [],
   "source": [
    "# persist the model and scaler\n",
    "pickle.dump(clf,model_file_pickle)\n",
    "pickle.dump(scaler,scaler_file_pickle)"
   ]
  },
  {
   "cell_type": "code",
   "execution_count": 53,
   "metadata": {},
   "outputs": [],
   "source": [
    "# close the file\n",
    "model_file_pickle.close()\n",
    "scaler_file_pickle.close()"
   ]
  },
  {
   "cell_type": "markdown",
   "metadata": {},
   "source": [
    "#### load the persisted file"
   ]
  },
  {
   "cell_type": "code",
   "execution_count": 54,
   "metadata": {},
   "outputs": [],
   "source": [
    "# open file in read mode\n",
    "model_file_pickle = open(model_file_path, 'r')\n",
    "scaler_file_pickle = open(scaler_file_path, 'r')\n",
    "# load files\n",
    "clf_loaded = pickle.load(model_file_pickle)\n",
    "scaler_loaded = pickle.load(scaler_file_pickle) #calculate\n",
    "# close files\n",
    "model_file_pickle.close()\n",
    "scaler_file_pickle.close()"
   ]
  },
  {
   "cell_type": "code",
   "execution_count": 55,
   "metadata": {},
   "outputs": [
    {
     "data": {
      "text/plain": [
       "GridSearchCV(cv=3, error_score='raise',\n",
       "       estimator=LogisticRegression(C=1.0, class_weight=None, dual=False, fit_intercept=True,\n",
       "          intercept_scaling=1, max_iter=100, multi_class='ovr', n_jobs=1,\n",
       "          penalty='l2', random_state=None, solver='liblinear', tol=0.0001,\n",
       "          verbose=0, warm_start=False),\n",
       "       fit_params=None, iid=True, n_jobs=1,\n",
       "       param_grid={'penalty': ['l1', 'l2'], 'C': [1.0, 10.0, 50.0, 100.0, 1000.0]},\n",
       "       pre_dispatch='2*n_jobs', refit=True, return_train_score='warn',\n",
       "       scoring=None, verbose=0)"
      ]
     },
     "execution_count": 55,
     "metadata": {},
     "output_type": "execute_result"
    }
   ],
   "source": [
    "clf_loaded"
   ]
  },
  {
   "cell_type": "code",
   "execution_count": 56,
   "metadata": {},
   "outputs": [
    {
     "data": {
      "text/plain": [
       "StandardScaler(copy=True, with_mean=True, with_std=True)"
      ]
     },
     "execution_count": 56,
     "metadata": {},
     "output_type": "execute_result"
    }
   ],
   "source": [
    "scaler_loaded"
   ]
  },
  {
   "cell_type": "code",
   "execution_count": 64,
   "metadata": {},
   "outputs": [
    {
     "name": "stdout",
     "output_type": "stream",
     "text": [
      "best score for peristed logistic regression : 0.82\n"
     ]
    }
   ],
   "source": [
    "# transform the test data using loaded scaler object\n",
    "X_test_scaled = scaler_loaded.transform(X_test)\n",
    "# calculate the score using loaded model object\n",
    "print('best score for peristed logistic regression : {0:.2f}'.format(clf_loaded.score(X_test_scaled, y_test)))"
   ]
  },
  {
   "cell_type": "code",
   "execution_count": null,
   "metadata": {},
   "outputs": [],
   "source": []
  },
  {
   "cell_type": "code",
   "execution_count": null,
   "metadata": {},
   "outputs": [],
   "source": []
  },
  {
   "cell_type": "code",
   "execution_count": null,
   "metadata": {},
   "outputs": [],
   "source": []
  },
  {
   "cell_type": "code",
   "execution_count": 69,
   "metadata": {},
   "outputs": [
    {
     "data": {
      "text/plain": [
       "array([0.52609926, 0.28564044, 0.11637101, 0.2445124 , 0.04923931,\n",
       "       0.30858804, 0.09538301, 0.90484695, 0.05859263, 0.23750786,\n",
       "       0.99231094, 0.47423796, 0.30969766, 0.79940029, 0.85665007,\n",
       "       0.20996496, 0.22284738, 0.0479782 , 0.81333804, 0.40376839,\n",
       "       0.02831361, 0.225614  , 0.38194003, 0.04057188, 0.55276264,\n",
       "       0.24577002, 0.1254097 , 0.59065677, 0.26407224, 0.87921311,\n",
       "       0.11953085, 0.24735053, 0.55941638, 0.12292592, 0.77490666,\n",
       "       0.11083723, 0.11524633, 0.19689112, 0.80041137, 0.18130739,\n",
       "       0.99983333, 0.1196078 , 0.52070347, 0.76731373, 0.0161689 ,\n",
       "       0.22754292, 0.02084229, 0.05118995, 0.65249546, 0.1293803 ,\n",
       "       0.05592356, 0.11981069, 0.98844062, 0.30130621, 0.49449677,\n",
       "       0.36554712, 0.01053391, 0.86932858, 0.98594473, 0.77530255,\n",
       "       0.04490137, 0.13724846, 0.98226813, 0.42752201, 0.13938399,\n",
       "       0.99861224, 0.81073576, 0.79488581, 0.01570454, 0.04298679,\n",
       "       0.4025493 , 0.01897539, 0.06411786, 0.38235162, 0.0665792 ,\n",
       "       0.1503659 , 0.64863236, 0.8731091 , 0.07966089, 0.12966442,\n",
       "       0.03786894, 0.01298586, 0.13813087, 0.04573552, 0.18700345,\n",
       "       0.08737801, 0.23517996, 0.64693791, 0.28365201, 0.42032874,\n",
       "       0.98971474, 0.14007231, 0.23682016, 0.47602287, 0.86255686,\n",
       "       0.44061846, 0.27038562, 0.07699891, 0.06523596, 0.90634661,\n",
       "       0.77518409, 0.13109555, 0.53676068, 0.1432334 , 0.74374823,\n",
       "       0.0728584 , 0.01224867, 0.17762495, 0.09508437, 0.07304465,\n",
       "       0.17559378, 0.17414741, 0.03570395, 0.53664679, 0.99819063,\n",
       "       0.73460493, 0.29789997, 0.15108178, 0.09024329, 0.2855993 ,\n",
       "       0.17950801, 1.        , 0.05605883, 0.00846085, 0.92124667,\n",
       "       0.33166004, 0.87441375, 0.22087667, 0.20521089, 0.55771805,\n",
       "       0.07255357, 0.1053457 , 0.26972295, 0.50004074, 0.04481447,\n",
       "       0.2043531 , 0.75156307, 0.20917068, 0.22482184, 0.11601663,\n",
       "       0.20428468, 0.13683955, 0.43855482, 0.99228031, 0.76518357,\n",
       "       0.50567998, 0.02978836, 0.4896321 , 0.00666049, 0.2879093 ,\n",
       "       0.06713897, 0.89363186, 0.05917997, 0.57639429, 0.16371579,\n",
       "       0.00653225, 0.11121934, 0.05856019, 0.58466456, 0.94640347,\n",
       "       0.00822454, 0.01206404, 0.19027025, 0.03202552, 0.68468022,\n",
       "       0.56934146, 0.17077745, 0.80769578, 0.14149583, 0.1353288 ,\n",
       "       0.37817834, 0.80954773, 0.7786013 , 0.01419629, 0.03870978,\n",
       "       0.77513023, 0.05653454, 0.96885832, 0.50746019, 0.16640679,\n",
       "       0.21853892, 0.093675  , 0.9950982 , 0.99596927, 0.95575393,\n",
       "       0.86946468, 0.99930394, 0.55743501, 0.23016275, 0.07564889,\n",
       "       0.99945799, 0.18323809, 0.0440806 , 0.6873358 , 0.8003269 ,\n",
       "       0.10453313, 0.36687164, 0.26268304, 0.09285903, 0.79705907,\n",
       "       0.24826823, 0.8302185 , 0.01274062, 0.88426079, 0.15555463,\n",
       "       0.17898572, 0.04357672, 0.09353067, 0.04687   , 0.70859653,\n",
       "       0.36060644, 0.08472131, 1.        , 0.67180206, 0.07279897,\n",
       "       0.20380888, 0.49229434, 0.93481058, 0.03035903, 0.82134414,\n",
       "       0.14152447, 0.05410684, 1.        , 0.17586136, 0.81519901,\n",
       "       0.11756774, 0.20678657, 0.39755932, 0.39522942, 0.14339326,\n",
       "       0.26281071, 0.3235793 , 0.01588721, 0.43496396, 0.37880547,\n",
       "       0.12834624, 0.03598947, 0.15511229, 0.27105578, 0.07089281,\n",
       "       0.16191124, 0.22397118, 0.0228108 , 0.74949624, 0.3002229 ,\n",
       "       0.07723318, 0.49101097, 0.0411127 , 0.95850627, 0.04928805,\n",
       "       0.03077715, 0.08834202, 0.20758666, 0.93722949, 0.94687236,\n",
       "       0.37149242, 0.06575615, 0.5189011 , 0.94687049, 0.2183821 ,\n",
       "       0.01517457, 0.25397611, 0.82324329, 0.92705289, 0.38812079,\n",
       "       0.1322868 , 0.04446215, 0.3304545 , 0.02624144, 0.19844706,\n",
       "       0.06981988, 0.64467933, 0.0551722 , 0.94500606, 0.66731663,\n",
       "       0.25364564, 0.06975529, 0.10348284, 0.76714993, 0.04430984,\n",
       "       0.96371258, 0.04710748, 0.09691567, 0.243014  , 0.10168917,\n",
       "       0.77552061, 0.8935571 , 0.76638766, 0.05820949, 0.07447732,\n",
       "       0.98270158, 0.99130861, 0.96085697, 0.05347598, 0.92058231,\n",
       "       0.28959429, 0.0487387 , 0.4516287 , 0.06604695, 0.2734742 ,\n",
       "       0.02283194, 0.02526416, 0.15776451, 0.81761535, 0.3941755 ,\n",
       "       0.08891712, 0.10078484, 0.94387532, 0.03347865, 0.4844272 ,\n",
       "       0.56059185, 0.99800537, 0.00583187, 0.45857999, 0.17227943,\n",
       "       0.63418022, 0.16205826, 0.12200131, 0.34630883, 0.16788158,\n",
       "       0.05256733, 0.56710342, 0.48964292, 0.05139852, 0.36798717,\n",
       "       0.50275279, 0.04939102, 0.07995079, 0.96426817, 0.18383127,\n",
       "       0.46337308, 0.09284174, 0.26571869, 0.09613956, 0.21151231,\n",
       "       0.76056269, 0.55983506, 0.07637649, 0.48512221, 0.35900253,\n",
       "       0.93780066, 0.99949213, 0.07864352, 1.        , 0.88935789,\n",
       "       0.21053551, 0.03477596, 0.00518138, 0.03715531, 0.36361439,\n",
       "       0.20549933, 0.02847509, 0.75343153, 0.15646682, 0.828581  ,\n",
       "       0.05254522, 0.18150461, 0.93236198, 0.99854934, 0.12698259,\n",
       "       0.99726431, 0.87903767, 0.81731225, 0.01787594, 0.18303327,\n",
       "       0.19868154, 0.06655784, 0.8753745 , 0.10675068, 0.01069786,\n",
       "       0.66713967, 0.4987149 , 0.03951175, 0.53304349, 0.99940582,\n",
       "       0.27030398, 0.279951  , 0.12303671, 0.13986919, 0.85219324,\n",
       "       0.98374514, 0.08814692, 0.74176676, 0.09958975, 0.86980888,\n",
       "       0.34309421, 0.99864719, 0.09594123, 0.03120403, 0.36374023,\n",
       "       0.89835646, 0.46440906, 0.32544109, 0.04302139, 0.93364751,\n",
       "       0.12714871, 0.10995927, 0.21749002, 0.07922164, 0.04298939,\n",
       "       0.05734575, 0.87008471, 0.04377354, 0.37181733, 0.01433022,\n",
       "       0.42001636, 0.1426915 , 0.8711131 , 0.1547102 , 0.70859331,\n",
       "       0.18735258, 0.60108   , 0.12526307, 0.07327216, 0.24220354,\n",
       "       0.99740949, 0.99972429, 0.06038389, 0.94975362, 0.96547265,\n",
       "       0.04527788, 0.20803993, 0.06825007, 0.10734576, 0.24367123,\n",
       "       0.22258931, 0.19270711, 0.2548062 , 0.83969817, 0.89782624,\n",
       "       0.52866277, 0.9994832 , 0.82688346, 0.94060469, 0.9216992 ,\n",
       "       0.1101182 , 0.10254097, 0.2283264 , 0.91273473, 0.2289587 ,\n",
       "       0.19003207, 0.14303008, 0.87303499, 0.01825689, 0.61098519,\n",
       "       0.08212078, 0.17417168, 0.15304878, 0.10369364, 0.27876561,\n",
       "       0.52041986, 0.59393487, 0.36346501, 0.08256817, 0.14155206,\n",
       "       0.19424404, 0.03518205, 0.95136275, 0.87805841, 0.06093877,\n",
       "       0.64349303, 0.00699928, 0.99914021, 0.24719159, 0.87929528,\n",
       "       0.06950356, 0.17606587, 0.04093396, 0.52717913, 0.90348039,\n",
       "       0.59312259, 0.99771866, 0.11946157, 0.89572304, 0.40901537,\n",
       "       0.2335117 , 0.47296552, 0.87693163, 0.20344437, 0.99935627,\n",
       "       0.22113164, 0.27880084, 0.14537107, 0.10077671, 0.40864414,\n",
       "       0.83837942, 0.00853028, 0.2339784 , 1.        , 0.29844249,\n",
       "       0.0984    , 0.23089449, 0.06896426, 0.06336856, 0.13781575,\n",
       "       0.05403641, 0.08972238, 0.49992469, 0.77856784, 0.05498023,\n",
       "       0.07806265, 0.03254329, 0.38536477, 0.27891454, 0.77807804,\n",
       "       0.33695355, 0.06985847, 0.21930552, 0.64843586, 0.99789353,\n",
       "       0.13016176, 0.18563522, 0.17470588, 0.8667428 , 0.93833303,\n",
       "       0.98471226, 0.47079059, 0.07670335, 0.01615193, 0.79605625,\n",
       "       0.02202102, 0.04206989, 0.31273893, 0.12553042, 0.1770079 ,\n",
       "       0.00281298, 0.90196071, 0.03850192, 0.04555144, 0.192685  ,\n",
       "       0.10343766, 0.5729959 , 0.11688322, 0.37292052, 0.24365989,\n",
       "       0.33669581, 0.10028562, 0.09869195, 0.37922092, 0.21644187,\n",
       "       0.98724096, 0.62627707, 0.32112506, 0.06159395, 0.01191865,\n",
       "       0.24214349, 0.39758663, 0.39108513, 0.25382476, 0.92224661,\n",
       "       0.01559821, 0.00303819, 0.20485208, 0.17407311, 0.04318606,\n",
       "       0.1806675 , 0.04657926, 0.36024812, 0.01612409, 0.67712039,\n",
       "       0.12782076, 0.21968533, 0.25367316, 0.92410135, 0.93590175,\n",
       "       0.2441402 , 0.87954267, 0.03424722, 0.9467255 , 0.7216457 ,\n",
       "       0.96069368, 0.15831829, 0.01263053, 0.9570947 , 0.96826776,\n",
       "       0.98901809, 0.0744992 , 0.1921029 , 0.25840022, 0.16934962,\n",
       "       0.01291981, 0.06310161, 0.86106882, 0.03175327, 0.37434984,\n",
       "       0.93413292, 0.42175348, 0.13280159, 0.0863613 , 0.13878034,\n",
       "       0.09312456, 0.36272052, 0.59570329, 0.73819658, 1.        ,\n",
       "       0.1100651 , 0.86766489, 0.58616126, 0.27663504, 0.78364456,\n",
       "       0.29922009, 0.2418035 , 1.        , 0.03487362, 0.14431426,\n",
       "       0.05314348, 0.97007681, 0.06306165, 0.40239757, 0.91263671,\n",
       "       0.74900452, 0.21838707, 0.31661614, 0.11680289, 0.11490725,\n",
       "       0.03443337, 0.5825014 , 0.14547352, 0.15835531, 0.11347734,\n",
       "       0.99480475, 0.87216711, 0.50648653, 0.11144343, 0.04373214,\n",
       "       0.79622223, 0.12621221, 0.03468946, 0.05449437, 0.62823599,\n",
       "       0.12806774, 0.87091147, 0.36761229, 0.87142255, 0.21222612,\n",
       "       0.99983333, 0.12776123, 0.12019644, 0.99944568, 0.35276216,\n",
       "       0.15207417, 0.21924368, 0.64548285, 0.04906489, 0.01326733,\n",
       "       0.41400246, 0.25771224, 0.07469395, 0.23441074, 0.93992463,\n",
       "       0.44551254, 0.50992831, 0.87214203, 0.90670724, 0.91609823,\n",
       "       0.20283253, 0.11012695, 0.12184289, 0.95922751, 0.07133455,\n",
       "       0.08521254, 0.04126881, 0.36285904, 0.00721852, 0.86686788,\n",
       "       0.04369833, 0.04806752, 0.43150236, 0.19492373, 0.29195433,\n",
       "       0.24960086, 0.56234051, 0.97698385, 0.09634292, 0.15756275,\n",
       "       0.79692357, 0.49083289, 0.13289849, 0.77628452, 0.83647945,\n",
       "       0.26111911, 0.81085643, 0.15367813, 0.04039985, 0.99982345,\n",
       "       0.35609735, 0.95617205, 0.90096096, 0.27662439, 0.04631803,\n",
       "       0.21942451, 0.9544438 , 0.10503093, 0.08541901, 0.48723725,\n",
       "       0.93121028, 0.9796761 , 0.22872295, 0.75731505, 0.13490005,\n",
       "       0.94325266, 0.07415822, 0.08040331, 0.98654922, 0.90924001,\n",
       "       0.61629527, 0.97429416, 0.99308196, 0.60513695, 0.05134838,\n",
       "       0.49985073, 0.0221354 ])"
      ]
     },
     "execution_count": 69,
     "metadata": {},
     "output_type": "execute_result"
    }
   ],
   "source": [
    "model.oob_prediction_"
   ]
  },
  {
   "cell_type": "code",
   "execution_count": null,
   "metadata": {},
   "outputs": [],
   "source": [
    "print('best score for logistic regression - version 2 : {0:.2f}'.format(clf.score(X_test_scaled, y_test)))"
   ]
  }
 ],
 "metadata": {
  "kernelspec": {
   "display_name": "Python 2",
   "language": "python",
   "name": "python2"
  },
  "language_info": {
   "codemirror_mode": {
    "name": "ipython",
    "version": 2
   },
   "file_extension": ".py",
   "mimetype": "text/x-python",
   "name": "python",
   "nbconvert_exporter": "python",
   "pygments_lexer": "ipython2",
   "version": "2.7.15"
  }
 },
 "nbformat": 4,
 "nbformat_minor": 2
}
